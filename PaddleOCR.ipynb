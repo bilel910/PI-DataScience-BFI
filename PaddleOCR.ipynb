{
  "nbformat": 4,
  "nbformat_minor": 0,
  "metadata": {
    "colab": {
      "provenance": []
    },
    "kernelspec": {
      "name": "python3",
      "display_name": "Python 3"
    },
    "language_info": {
      "name": "python"
    }
  },
  "cells": [
    {
      "cell_type": "code",
      "execution_count": null,
      "metadata": {
        "colab": {
          "base_uri": "https://localhost:8080/"
        },
        "id": "D3w1TDtqc6LJ",
        "outputId": "8acd37e9-4a9f-4b7e-eb4c-794ff5a9dfd7"
      },
      "outputs": [
        {
          "output_type": "stream",
          "name": "stdout",
          "text": [
            "Requirement already satisfied: pip in /usr/local/lib/python3.10/dist-packages (23.1.2)\n",
            "Collecting pip\n",
            "  Downloading pip-24.0-py3-none-any.whl (2.1 MB)\n",
            "\u001b[2K     \u001b[90m━━━━━━━━━━━━━━━━━━━━━━━━━━━━━━━━━━━━━━━━\u001b[0m \u001b[32m2.1/2.1 MB\u001b[0m \u001b[31m22.8 MB/s\u001b[0m eta \u001b[36m0:00:00\u001b[0m\n",
            "\u001b[?25hInstalling collected packages: pip\n",
            "  Attempting uninstall: pip\n",
            "    Found existing installation: pip 23.1.2\n",
            "    Uninstalling pip-23.1.2:\n",
            "      Successfully uninstalled pip-23.1.2\n",
            "Successfully installed pip-24.0\n"
          ]
        }
      ],
      "source": [
        "!python3 -m pip install --upgrade pip"
      ]
    },
    {
      "cell_type": "code",
      "source": [
        "!python3 -m pip install \"paddlepaddle>=2.3\" -i https://mirror.baidu.com/pypi/simple"
      ],
      "metadata": {
        "colab": {
          "base_uri": "https://localhost:8080/"
        },
        "id": "qP4PVA15dDBv",
        "outputId": "6dab0449-d19a-4904-e34a-654c4c51c2c5"
      },
      "execution_count": null,
      "outputs": [
        {
          "output_type": "stream",
          "name": "stdout",
          "text": [
            "Looking in indexes: https://mirror.baidu.com/pypi/simple\n",
            "Collecting paddlepaddle>=2.3\n",
            "  Downloading https://mirror.baidu.com/pypi/packages/ea/16/c2fd65a994871bed5928a5997e3cd87169cceb12afe5aa26b5adb0467948/paddlepaddle-2.6.0-cp310-cp310-manylinux1_x86_64.whl (125.7 MB)\n",
            "\u001b[2K     \u001b[90m━━━━━━━━━━━━━━━━━━━━━━━━━━━━━━━━━━━━━━━━\u001b[0m \u001b[32m125.7/125.7 MB\u001b[0m \u001b[31m3.9 MB/s\u001b[0m eta \u001b[36m0:00:00\u001b[0m\n",
            "\u001b[?25hCollecting httpx (from paddlepaddle>=2.3)\n",
            "  Downloading https://mirror.baidu.com/pypi/packages/39/9b/4937d841aee9c2c8102d9a4eeb800c7dad25386caabb4a1bf5010df81a57/httpx-0.26.0-py3-none-any.whl (75 kB)\n",
            "\u001b[2K     \u001b[90m━━━━━━━━━━━━━━━━━━━━━━━━━━━━━━━━━━━━━━━━\u001b[0m \u001b[32m75.9/75.9 kB\u001b[0m \u001b[31m4.4 MB/s\u001b[0m eta \u001b[36m0:00:00\u001b[0m\n",
            "\u001b[?25hRequirement already satisfied: numpy>=1.13 in /usr/local/lib/python3.10/dist-packages (from paddlepaddle>=2.3) (1.25.2)\n",
            "Requirement already satisfied: Pillow in /usr/local/lib/python3.10/dist-packages (from paddlepaddle>=2.3) (9.4.0)\n",
            "Requirement already satisfied: decorator in /usr/local/lib/python3.10/dist-packages (from paddlepaddle>=2.3) (4.4.2)\n",
            "Collecting astor (from paddlepaddle>=2.3)\n",
            "  Downloading https://mirror.baidu.com/pypi/packages/c3/88/97eef84f48fa04fbd6750e62dcceafba6c63c81b7ac1420856c8dcc0a3f9/astor-0.8.1-py2.py3-none-any.whl (27 kB)\n",
            "Requirement already satisfied: opt-einsum==3.3.0 in /usr/local/lib/python3.10/dist-packages (from paddlepaddle>=2.3) (3.3.0)\n",
            "Requirement already satisfied: protobuf>=3.20.2 in /usr/local/lib/python3.10/dist-packages (from paddlepaddle>=2.3) (3.20.3)\n",
            "Requirement already satisfied: anyio in /usr/local/lib/python3.10/dist-packages (from httpx->paddlepaddle>=2.3) (3.7.1)\n",
            "Requirement already satisfied: certifi in /usr/local/lib/python3.10/dist-packages (from httpx->paddlepaddle>=2.3) (2024.2.2)\n",
            "Collecting httpcore==1.* (from httpx->paddlepaddle>=2.3)\n",
            "  Downloading https://mirror.baidu.com/pypi/packages/56/ba/78b0a99c4da0ff8b0f59defa2f13ca4668189b134bd9840b6202a93d9a0f/httpcore-1.0.2-py3-none-any.whl (76 kB)\n",
            "\u001b[2K     \u001b[90m━━━━━━━━━━━━━━━━━━━━━━━━━━━━━━━━━━━━━━━━\u001b[0m \u001b[32m76.9/76.9 kB\u001b[0m \u001b[31m7.3 MB/s\u001b[0m eta \u001b[36m0:00:00\u001b[0m\n",
            "\u001b[?25hRequirement already satisfied: idna in /usr/local/lib/python3.10/dist-packages (from httpx->paddlepaddle>=2.3) (3.6)\n",
            "Requirement already satisfied: sniffio in /usr/local/lib/python3.10/dist-packages (from httpx->paddlepaddle>=2.3) (1.3.1)\n",
            "Collecting h11<0.15,>=0.13 (from httpcore==1.*->httpx->paddlepaddle>=2.3)\n",
            "  Downloading https://mirror.baidu.com/pypi/packages/95/04/ff642e65ad6b90db43e668d70ffb6736436c7ce41fcc549f4e9472234127/h11-0.14.0-py3-none-any.whl (58 kB)\n",
            "\u001b[2K     \u001b[90m━━━━━━━━━━━━━━━━━━━━━━━━━━━━━━━━━━━━━━━━\u001b[0m \u001b[32m58.3/58.3 kB\u001b[0m \u001b[31m4.6 MB/s\u001b[0m eta \u001b[36m0:00:00\u001b[0m\n",
            "\u001b[?25hRequirement already satisfied: exceptiongroup in /usr/local/lib/python3.10/dist-packages (from anyio->httpx->paddlepaddle>=2.3) (1.2.0)\n",
            "Installing collected packages: h11, astor, httpcore, httpx, paddlepaddle\n",
            "Successfully installed astor-0.8.1 h11-0.14.0 httpcore-1.0.2 httpx-0.26.0 paddlepaddle-2.6.0\n",
            "\u001b[33mWARNING: Running pip as the 'root' user can result in broken permissions and conflicting behaviour with the system package manager. It is recommended to use a virtual environment instead: https://pip.pypa.io/warnings/venv\u001b[0m\u001b[33m\n",
            "\u001b[0m"
          ]
        }
      ]
    },
    {
      "cell_type": "code",
      "source": [
        "!git clone https://github.com/PaddlePaddle/PaddleOCR.git"
      ],
      "metadata": {
        "colab": {
          "base_uri": "https://localhost:8080/"
        },
        "id": "AIr-5BI0Rw07",
        "outputId": "79606ab4-d44a-4210-a134-c893af0b5865"
      },
      "execution_count": null,
      "outputs": [
        {
          "output_type": "stream",
          "name": "stdout",
          "text": [
            "Cloning into 'PaddleOCR'...\n",
            "remote: Enumerating objects: 47797, done.\u001b[K\n",
            "remote: Counting objects: 100% (148/148), done.\u001b[K\n",
            "remote: Compressing objects: 100% (119/119), done.\u001b[K\n",
            "remote: Total 47797 (delta 48), reused 94 (delta 25), pack-reused 47649\u001b[K\n",
            "Receiving objects: 100% (47797/47797), 345.27 MiB | 30.78 MiB/s, done.\n",
            "Resolving deltas: 100% (33724/33724), done.\n",
            "Updating files: 100% (1892/1892), done.\n"
          ]
        }
      ]
    },
    {
      "cell_type": "code",
      "source": [
        "!pip install \"paddleocr>=2.0.1\""
      ],
      "metadata": {
        "colab": {
          "base_uri": "https://localhost:8080/",
          "height": 1000
        },
        "id": "nibRL3z7SGzE",
        "outputId": "a092983f-3c3c-4be9-8cf3-eb0cf690e285"
      },
      "execution_count": null,
      "outputs": [
        {
          "output_type": "stream",
          "name": "stdout",
          "text": [
            "Collecting paddleocr>=2.0.1\n",
            "  Downloading paddleocr-2.7.0.3-py3-none-any.whl.metadata (26 kB)\n",
            "Requirement already satisfied: shapely in /usr/local/lib/python3.10/dist-packages (from paddleocr>=2.0.1) (2.0.3)\n",
            "Requirement already satisfied: scikit-image in /usr/local/lib/python3.10/dist-packages (from paddleocr>=2.0.1) (0.19.3)\n",
            "Requirement already satisfied: imgaug in /usr/local/lib/python3.10/dist-packages (from paddleocr>=2.0.1) (0.4.0)\n",
            "Collecting pyclipper (from paddleocr>=2.0.1)\n",
            "  Downloading pyclipper-1.3.0.post5-cp310-cp310-manylinux_2_12_x86_64.manylinux2010_x86_64.whl.metadata (9.0 kB)\n",
            "Collecting lmdb (from paddleocr>=2.0.1)\n",
            "  Downloading lmdb-1.4.1-cp310-cp310-manylinux_2_17_x86_64.manylinux2014_x86_64.whl.metadata (1.2 kB)\n",
            "Requirement already satisfied: tqdm in /usr/local/lib/python3.10/dist-packages (from paddleocr>=2.0.1) (4.66.2)\n",
            "Requirement already satisfied: numpy in /usr/local/lib/python3.10/dist-packages (from paddleocr>=2.0.1) (1.25.2)\n",
            "Collecting visualdl (from paddleocr>=2.0.1)\n",
            "  Downloading visualdl-2.5.3-py3-none-any.whl.metadata (25 kB)\n",
            "Collecting rapidfuzz (from paddleocr>=2.0.1)\n",
            "  Downloading rapidfuzz-3.6.1-cp310-cp310-manylinux_2_17_x86_64.manylinux2014_x86_64.whl.metadata (11 kB)\n",
            "Collecting opencv-python<=4.6.0.66 (from paddleocr>=2.0.1)\n",
            "  Downloading opencv_python-4.6.0.66-cp36-abi3-manylinux_2_17_x86_64.manylinux2014_x86_64.whl.metadata (18 kB)\n",
            "Collecting opencv-contrib-python<=4.6.0.66 (from paddleocr>=2.0.1)\n",
            "  Downloading opencv_contrib_python-4.6.0.66-cp36-abi3-manylinux_2_17_x86_64.manylinux2014_x86_64.whl.metadata (18 kB)\n",
            "Requirement already satisfied: cython in /usr/local/lib/python3.10/dist-packages (from paddleocr>=2.0.1) (3.0.8)\n",
            "Requirement already satisfied: lxml in /usr/local/lib/python3.10/dist-packages (from paddleocr>=2.0.1) (4.9.4)\n",
            "Collecting premailer (from paddleocr>=2.0.1)\n",
            "  Downloading premailer-3.10.0-py2.py3-none-any.whl.metadata (15 kB)\n",
            "Requirement already satisfied: openpyxl in /usr/local/lib/python3.10/dist-packages (from paddleocr>=2.0.1) (3.1.2)\n",
            "Collecting attrdict (from paddleocr>=2.0.1)\n",
            "  Downloading attrdict-2.0.1-py2.py3-none-any.whl.metadata (6.7 kB)\n",
            "Collecting PyMuPDF<1.21.0 (from paddleocr>=2.0.1)\n",
            "  Downloading PyMuPDF-1.20.2-cp310-cp310-manylinux_2_17_x86_64.manylinux2014_x86_64.whl.metadata (8.5 kB)\n",
            "Collecting Pillow>=10.0.0 (from paddleocr>=2.0.1)\n",
            "  Downloading pillow-10.2.0-cp310-cp310-manylinux_2_28_x86_64.whl.metadata (9.7 kB)\n",
            "Requirement already satisfied: pyyaml in /usr/local/lib/python3.10/dist-packages (from paddleocr>=2.0.1) (6.0.1)\n",
            "Collecting python-docx (from paddleocr>=2.0.1)\n",
            "  Downloading python_docx-1.1.0-py3-none-any.whl.metadata (2.0 kB)\n",
            "Requirement already satisfied: beautifulsoup4 in /usr/local/lib/python3.10/dist-packages (from paddleocr>=2.0.1) (4.12.3)\n",
            "Requirement already satisfied: fonttools>=4.24.0 in /usr/local/lib/python3.10/dist-packages (from paddleocr>=2.0.1) (4.49.0)\n",
            "Collecting fire>=0.3.0 (from paddleocr>=2.0.1)\n",
            "  Downloading fire-0.5.0.tar.gz (88 kB)\n",
            "\u001b[2K     \u001b[90m━━━━━━━━━━━━━━━━━━━━━━━━━━━━━━━━━━━━━━━━\u001b[0m \u001b[32m88.3/88.3 kB\u001b[0m \u001b[31m8.1 MB/s\u001b[0m eta \u001b[36m0:00:00\u001b[0m\n",
            "\u001b[?25h  Preparing metadata (setup.py) ... \u001b[?25l\u001b[?25hdone\n",
            "Collecting pdf2docx (from paddleocr>=2.0.1)\n",
            "  Downloading pdf2docx-0.5.8-py3-none-any.whl.metadata (3.2 kB)\n",
            "Requirement already satisfied: six in /usr/local/lib/python3.10/dist-packages (from fire>=0.3.0->paddleocr>=2.0.1) (1.16.0)\n",
            "Requirement already satisfied: termcolor in /usr/local/lib/python3.10/dist-packages (from fire>=0.3.0->paddleocr>=2.0.1) (2.4.0)\n",
            "Requirement already satisfied: soupsieve>1.2 in /usr/local/lib/python3.10/dist-packages (from beautifulsoup4->paddleocr>=2.0.1) (2.5)\n",
            "Requirement already satisfied: scipy in /usr/local/lib/python3.10/dist-packages (from imgaug->paddleocr>=2.0.1) (1.11.4)\n",
            "Requirement already satisfied: matplotlib in /usr/local/lib/python3.10/dist-packages (from imgaug->paddleocr>=2.0.1) (3.7.1)\n",
            "Requirement already satisfied: imageio in /usr/local/lib/python3.10/dist-packages (from imgaug->paddleocr>=2.0.1) (2.31.6)\n",
            "Requirement already satisfied: networkx>=2.2 in /usr/local/lib/python3.10/dist-packages (from scikit-image->paddleocr>=2.0.1) (3.2.1)\n",
            "Requirement already satisfied: tifffile>=2019.7.26 in /usr/local/lib/python3.10/dist-packages (from scikit-image->paddleocr>=2.0.1) (2024.2.12)\n",
            "Requirement already satisfied: PyWavelets>=1.1.1 in /usr/local/lib/python3.10/dist-packages (from scikit-image->paddleocr>=2.0.1) (1.5.0)\n",
            "Requirement already satisfied: packaging>=20.0 in /usr/local/lib/python3.10/dist-packages (from scikit-image->paddleocr>=2.0.1) (23.2)\n",
            "Requirement already satisfied: et-xmlfile in /usr/local/lib/python3.10/dist-packages (from openpyxl->paddleocr>=2.0.1) (1.1.0)\n",
            "Requirement already satisfied: opencv-python-headless>=4.5 in /usr/local/lib/python3.10/dist-packages (from pdf2docx->paddleocr>=2.0.1) (4.9.0.80)\n",
            "Requirement already satisfied: typing-extensions in /usr/local/lib/python3.10/dist-packages (from python-docx->paddleocr>=2.0.1) (4.10.0)\n",
            "Collecting cssselect (from premailer->paddleocr>=2.0.1)\n",
            "  Downloading cssselect-1.2.0-py2.py3-none-any.whl.metadata (2.2 kB)\n",
            "Collecting cssutils (from premailer->paddleocr>=2.0.1)\n",
            "  Downloading cssutils-2.9.0-py3-none-any.whl.metadata (9.1 kB)\n",
            "Requirement already satisfied: requests in /usr/local/lib/python3.10/dist-packages (from premailer->paddleocr>=2.0.1) (2.31.0)\n",
            "Requirement already satisfied: cachetools in /usr/local/lib/python3.10/dist-packages (from premailer->paddleocr>=2.0.1) (5.3.3)\n",
            "Collecting bce-python-sdk (from visualdl->paddleocr>=2.0.1)\n",
            "  Downloading bce_python_sdk-0.9.4-py3-none-any.whl.metadata (318 bytes)\n",
            "Requirement already satisfied: flask>=1.1.1 in /usr/local/lib/python3.10/dist-packages (from visualdl->paddleocr>=2.0.1) (2.2.5)\n",
            "Collecting Flask-Babel>=3.0.0 (from visualdl->paddleocr>=2.0.1)\n",
            "  Downloading flask_babel-4.0.0-py3-none-any.whl.metadata (1.9 kB)\n",
            "Requirement already satisfied: protobuf>=3.20.0 in /usr/local/lib/python3.10/dist-packages (from visualdl->paddleocr>=2.0.1) (3.20.3)\n",
            "Requirement already satisfied: pandas in /usr/local/lib/python3.10/dist-packages (from visualdl->paddleocr>=2.0.1) (1.5.3)\n",
            "Collecting rarfile (from visualdl->paddleocr>=2.0.1)\n",
            "  Downloading rarfile-4.1-py3-none-any.whl.metadata (4.4 kB)\n",
            "Requirement already satisfied: psutil in /usr/local/lib/python3.10/dist-packages (from visualdl->paddleocr>=2.0.1) (5.9.5)\n",
            "Requirement already satisfied: Werkzeug>=2.2.2 in /usr/local/lib/python3.10/dist-packages (from flask>=1.1.1->visualdl->paddleocr>=2.0.1) (3.0.1)\n",
            "Requirement already satisfied: Jinja2>=3.0 in /usr/local/lib/python3.10/dist-packages (from flask>=1.1.1->visualdl->paddleocr>=2.0.1) (3.1.3)\n",
            "Requirement already satisfied: itsdangerous>=2.0 in /usr/local/lib/python3.10/dist-packages (from flask>=1.1.1->visualdl->paddleocr>=2.0.1) (2.1.2)\n",
            "Requirement already satisfied: click>=8.0 in /usr/local/lib/python3.10/dist-packages (from flask>=1.1.1->visualdl->paddleocr>=2.0.1) (8.1.7)\n",
            "Requirement already satisfied: Babel>=2.12 in /usr/local/lib/python3.10/dist-packages (from Flask-Babel>=3.0.0->visualdl->paddleocr>=2.0.1) (2.14.0)\n",
            "Requirement already satisfied: pytz>=2022.7 in /usr/local/lib/python3.10/dist-packages (from Flask-Babel>=3.0.0->visualdl->paddleocr>=2.0.1) (2023.4)\n",
            "Collecting Pillow>=10.0.0 (from paddleocr>=2.0.1)\n",
            "  Downloading Pillow-10.0.1-cp310-cp310-manylinux_2_28_x86_64.whl.metadata (9.5 kB)\n",
            "Collecting pycryptodome>=3.8.0 (from bce-python-sdk->visualdl->paddleocr>=2.0.1)\n",
            "  Downloading pycryptodome-3.20.0-cp35-abi3-manylinux_2_17_x86_64.manylinux2014_x86_64.whl.metadata (3.4 kB)\n",
            "Requirement already satisfied: future>=0.6.0 in /usr/local/lib/python3.10/dist-packages (from bce-python-sdk->visualdl->paddleocr>=2.0.1) (0.18.3)\n",
            "Requirement already satisfied: contourpy>=1.0.1 in /usr/local/lib/python3.10/dist-packages (from matplotlib->imgaug->paddleocr>=2.0.1) (1.2.0)\n",
            "Requirement already satisfied: cycler>=0.10 in /usr/local/lib/python3.10/dist-packages (from matplotlib->imgaug->paddleocr>=2.0.1) (0.12.1)\n",
            "Requirement already satisfied: kiwisolver>=1.0.1 in /usr/local/lib/python3.10/dist-packages (from matplotlib->imgaug->paddleocr>=2.0.1) (1.4.5)\n",
            "Requirement already satisfied: pyparsing>=2.3.1 in /usr/local/lib/python3.10/dist-packages (from matplotlib->imgaug->paddleocr>=2.0.1) (3.1.1)\n",
            "Requirement already satisfied: python-dateutil>=2.7 in /usr/local/lib/python3.10/dist-packages (from matplotlib->imgaug->paddleocr>=2.0.1) (2.8.2)\n",
            "Requirement already satisfied: charset-normalizer<4,>=2 in /usr/local/lib/python3.10/dist-packages (from requests->premailer->paddleocr>=2.0.1) (3.3.2)\n",
            "Requirement already satisfied: idna<4,>=2.5 in /usr/local/lib/python3.10/dist-packages (from requests->premailer->paddleocr>=2.0.1) (3.6)\n",
            "Requirement already satisfied: urllib3<3,>=1.21.1 in /usr/local/lib/python3.10/dist-packages (from requests->premailer->paddleocr>=2.0.1) (2.0.7)\n",
            "Requirement already satisfied: certifi>=2017.4.17 in /usr/local/lib/python3.10/dist-packages (from requests->premailer->paddleocr>=2.0.1) (2024.2.2)\n",
            "Requirement already satisfied: MarkupSafe>=2.0 in /usr/local/lib/python3.10/dist-packages (from Jinja2>=3.0->flask>=1.1.1->visualdl->paddleocr>=2.0.1) (2.1.5)\n",
            "Downloading paddleocr-2.7.0.3-py3-none-any.whl (465 kB)\n",
            "\u001b[2K   \u001b[90m━━━━━━━━━━━━━━━━━━━━━━━━━━━━━━━━━━━━━━━━\u001b[0m \u001b[32m465.7/465.7 kB\u001b[0m \u001b[31m36.2 MB/s\u001b[0m eta \u001b[36m0:00:00\u001b[0m\n",
            "\u001b[?25hDownloading opencv_contrib_python-4.6.0.66-cp36-abi3-manylinux_2_17_x86_64.manylinux2014_x86_64.whl (67.1 MB)\n",
            "\u001b[2K   \u001b[90m━━━━━━━━━━━━━━━━━━━━━━━━━━━━━━━━━━━━━━━━\u001b[0m \u001b[32m67.1/67.1 MB\u001b[0m \u001b[31m14.8 MB/s\u001b[0m eta \u001b[36m0:00:00\u001b[0m\n",
            "\u001b[?25hDownloading opencv_python-4.6.0.66-cp36-abi3-manylinux_2_17_x86_64.manylinux2014_x86_64.whl (60.9 MB)\n",
            "\u001b[2K   \u001b[90m━━━━━━━━━━━━━━━━━━━━━━━━━━━━━━━━━━━━━━━━\u001b[0m \u001b[32m60.9/60.9 MB\u001b[0m \u001b[31m10.4 MB/s\u001b[0m eta \u001b[36m0:00:00\u001b[0m\n",
            "\u001b[?25hDownloading PyMuPDF-1.20.2-cp310-cp310-manylinux_2_17_x86_64.manylinux2014_x86_64.whl (8.9 MB)\n",
            "\u001b[2K   \u001b[90m━━━━━━━━━━━━━━━━━━━━━━━━━━━━━━━━━━━━━━━━\u001b[0m \u001b[32m8.9/8.9 MB\u001b[0m \u001b[31m78.3 MB/s\u001b[0m eta \u001b[36m0:00:00\u001b[0m\n",
            "\u001b[?25hDownloading attrdict-2.0.1-py2.py3-none-any.whl (9.9 kB)\n",
            "Downloading lmdb-1.4.1-cp310-cp310-manylinux_2_17_x86_64.manylinux2014_x86_64.whl (299 kB)\n",
            "\u001b[2K   \u001b[90m━━━━━━━━━━━━━━━━━━━━━━━━━━━━━━━━━━━━━━━━\u001b[0m \u001b[32m299.2/299.2 kB\u001b[0m \u001b[31m26.5 MB/s\u001b[0m eta \u001b[36m0:00:00\u001b[0m\n",
            "\u001b[?25hDownloading pdf2docx-0.5.8-py3-none-any.whl (132 kB)\n",
            "\u001b[2K   \u001b[90m━━━━━━━━━━━━━━━━━━━━━━━━━━━━━━━━━━━━━━━━\u001b[0m \u001b[32m132.0/132.0 kB\u001b[0m \u001b[31m12.6 MB/s\u001b[0m eta \u001b[36m0:00:00\u001b[0m\n",
            "\u001b[?25hDownloading python_docx-1.1.0-py3-none-any.whl (239 kB)\n",
            "\u001b[2K   \u001b[90m━━━━━━━━━━━━━━━━━━━━━━━━━━━━━━━━━━━━━━━━\u001b[0m \u001b[32m239.6/239.6 kB\u001b[0m \u001b[31m18.8 MB/s\u001b[0m eta \u001b[36m0:00:00\u001b[0m\n",
            "\u001b[?25hDownloading premailer-3.10.0-py2.py3-none-any.whl (19 kB)\n",
            "Downloading pyclipper-1.3.0.post5-cp310-cp310-manylinux_2_12_x86_64.manylinux2010_x86_64.whl (908 kB)\n",
            "\u001b[2K   \u001b[90m━━━━━━━━━━━━━━━━━━━━━━━━━━━━━━━━━━━━━━━━\u001b[0m \u001b[32m908.3/908.3 kB\u001b[0m \u001b[31m54.5 MB/s\u001b[0m eta \u001b[36m0:00:00\u001b[0m\n",
            "\u001b[?25hDownloading rapidfuzz-3.6.1-cp310-cp310-manylinux_2_17_x86_64.manylinux2014_x86_64.whl (3.4 MB)\n",
            "\u001b[2K   \u001b[90m━━━━━━━━━━━━━━━━━━━━━━━━━━━━━━━━━━━━━━━━\u001b[0m \u001b[32m3.4/3.4 MB\u001b[0m \u001b[31m91.5 MB/s\u001b[0m eta \u001b[36m0:00:00\u001b[0m\n",
            "\u001b[?25hDownloading visualdl-2.5.3-py3-none-any.whl (6.3 MB)\n",
            "\u001b[2K   \u001b[90m━━━━━━━━━━━━━━━━━━━━━━━━━━━━━━━━━━━━━━━━\u001b[0m \u001b[32m6.3/6.3 MB\u001b[0m \u001b[31m98.0 MB/s\u001b[0m eta \u001b[36m0:00:00\u001b[0m\n",
            "\u001b[?25hDownloading flask_babel-4.0.0-py3-none-any.whl (9.6 kB)\n",
            "Downloading Pillow-10.0.1-cp310-cp310-manylinux_2_28_x86_64.whl (3.6 MB)\n",
            "\u001b[2K   \u001b[90m━━━━━━━━━━━━━━━━━━━━━━━━━━━━━━━━━━━━━━━━\u001b[0m \u001b[32m3.6/3.6 MB\u001b[0m \u001b[31m93.1 MB/s\u001b[0m eta \u001b[36m0:00:00\u001b[0m\n",
            "\u001b[?25hDownloading bce_python_sdk-0.9.4-py3-none-any.whl (329 kB)\n",
            "\u001b[2K   \u001b[90m━━━━━━━━━━━━━━━━━━━━━━━━━━━━━━━━━━━━━━━━\u001b[0m \u001b[32m329.2/329.2 kB\u001b[0m \u001b[31m28.4 MB/s\u001b[0m eta \u001b[36m0:00:00\u001b[0m\n",
            "\u001b[?25hDownloading cssselect-1.2.0-py2.py3-none-any.whl (18 kB)\n",
            "Downloading cssutils-2.9.0-py3-none-any.whl (398 kB)\n",
            "\u001b[2K   \u001b[90m━━━━━━━━━━━━━━━━━━━━━━━━━━━━━━━━━━━━━━━━\u001b[0m \u001b[32m398.5/398.5 kB\u001b[0m \u001b[31m30.9 MB/s\u001b[0m eta \u001b[36m0:00:00\u001b[0m\n",
            "\u001b[?25hDownloading rarfile-4.1-py3-none-any.whl (28 kB)\n",
            "Downloading pycryptodome-3.20.0-cp35-abi3-manylinux_2_17_x86_64.manylinux2014_x86_64.whl (2.1 MB)\n",
            "\u001b[2K   \u001b[90m━━━━━━━━━━━━━━━━━━━━━━━━━━━━━━━━━━━━━━━━\u001b[0m \u001b[32m2.1/2.1 MB\u001b[0m \u001b[31m75.9 MB/s\u001b[0m eta \u001b[36m0:00:00\u001b[0m\n",
            "\u001b[?25hBuilding wheels for collected packages: fire\n",
            "  Building wheel for fire (setup.py) ... \u001b[?25l\u001b[?25hdone\n",
            "  Created wheel for fire: filename=fire-0.5.0-py2.py3-none-any.whl size=116934 sha256=83158e8e56f47697d35e36ec4525c1533aac24d10ee26a366c244216ee4b02a4\n",
            "  Stored in directory: /root/.cache/pip/wheels/90/d4/f7/9404e5db0116bd4d43e5666eaa3e70ab53723e1e3ea40c9a95\n",
            "Successfully built fire\n",
            "Installing collected packages: pyclipper, lmdb, rarfile, rapidfuzz, python-docx, PyMuPDF, pycryptodome, Pillow, opencv-python, opencv-contrib-python, fire, cssutils, cssselect, attrdict, premailer, pdf2docx, bce-python-sdk, Flask-Babel, visualdl, paddleocr\n",
            "  Attempting uninstall: Pillow\n",
            "    Found existing installation: Pillow 9.4.0\n",
            "    Uninstalling Pillow-9.4.0:\n",
            "      Successfully uninstalled Pillow-9.4.0\n",
            "  Attempting uninstall: opencv-python\n",
            "    Found existing installation: opencv-python 4.8.0.76\n",
            "    Uninstalling opencv-python-4.8.0.76:\n",
            "      Successfully uninstalled opencv-python-4.8.0.76\n",
            "  Attempting uninstall: opencv-contrib-python\n",
            "    Found existing installation: opencv-contrib-python 4.8.0.76\n",
            "    Uninstalling opencv-contrib-python-4.8.0.76:\n",
            "      Successfully uninstalled opencv-contrib-python-4.8.0.76\n",
            "Successfully installed Flask-Babel-4.0.0 Pillow-10.0.1 PyMuPDF-1.20.2 attrdict-2.0.1 bce-python-sdk-0.9.4 cssselect-1.2.0 cssutils-2.9.0 fire-0.5.0 lmdb-1.4.1 opencv-contrib-python-4.6.0.66 opencv-python-4.6.0.66 paddleocr-2.7.0.3 pdf2docx-0.5.8 premailer-3.10.0 pyclipper-1.3.0.post5 pycryptodome-3.20.0 python-docx-1.1.0 rapidfuzz-3.6.1 rarfile-4.1 visualdl-2.5.3\n",
            "\u001b[33mWARNING: Running pip as the 'root' user can result in broken permissions and conflicting behaviour with the system package manager. It is recommended to use a virtual environment instead: https://pip.pypa.io/warnings/venv\u001b[0m\u001b[33m\n",
            "\u001b[0m"
          ]
        },
        {
          "output_type": "display_data",
          "data": {
            "application/vnd.colab-display-data+json": {
              "pip_warning": {
                "packages": [
                  "PIL"
                ]
              },
              "id": "3b4cba41377b435ca5de851884eb2a54"
            }
          },
          "metadata": {}
        }
      ]
    },
    {
      "cell_type": "code",
      "source": [
        "from paddleocr import PaddleOCR, draw_ocr"
      ],
      "metadata": {
        "id": "QNIcg8ZYSnJD"
      },
      "execution_count": null,
      "outputs": []
    },
    {
      "cell_type": "code",
      "source": [
        "import cv2\n",
        "import numpy as np\n",
        "import pandas as pd\n",
        "import tensorflow as tf"
      ],
      "metadata": {
        "id": "W7Q4clZomm6l"
      },
      "execution_count": null,
      "outputs": []
    },
    {
      "cell_type": "code",
      "source": [
        "ocr = PaddleOCR(lang='en')\n",
        "image_path = '/content/ext_im.jpg'\n",
        "image_cv = cv2.imread(image_path)\n",
        "image_height = image_cv.shape[0]\n",
        "image_width = image_cv.shape[1]\n",
        "output = ocr.ocr(image_path)[0]"
      ],
      "metadata": {
        "colab": {
          "base_uri": "https://localhost:8080/"
        },
        "id": "yqfZFiXiVQ64",
        "outputId": "9c916da9-27b5-44ce-8efe-31e98f12c691"
      },
      "execution_count": null,
      "outputs": [
        {
          "output_type": "stream",
          "name": "stdout",
          "text": [
            "download https://paddleocr.bj.bcebos.com/PP-OCRv3/english/en_PP-OCRv3_det_infer.tar to /root/.paddleocr/whl/det/en/en_PP-OCRv3_det_infer/en_PP-OCRv3_det_infer.tar\n"
          ]
        },
        {
          "output_type": "stream",
          "name": "stderr",
          "text": [
            "100%|██████████| 4.00M/4.00M [00:16<00:00, 240kiB/s] \n"
          ]
        },
        {
          "output_type": "stream",
          "name": "stdout",
          "text": [
            "download https://paddleocr.bj.bcebos.com/PP-OCRv4/english/en_PP-OCRv4_rec_infer.tar to /root/.paddleocr/whl/rec/en/en_PP-OCRv4_rec_infer/en_PP-OCRv4_rec_infer.tar\n"
          ]
        },
        {
          "output_type": "stream",
          "name": "stderr",
          "text": [
            "100%|██████████| 10.2M/10.2M [00:18<00:00, 568kiB/s] \n"
          ]
        },
        {
          "output_type": "stream",
          "name": "stdout",
          "text": [
            "download https://paddleocr.bj.bcebos.com/dygraph_v2.0/ch/ch_ppocr_mobile_v2.0_cls_infer.tar to /root/.paddleocr/whl/cls/ch_ppocr_mobile_v2.0_cls_infer/ch_ppocr_mobile_v2.0_cls_infer.tar\n"
          ]
        },
        {
          "output_type": "stream",
          "name": "stderr",
          "text": [
            "100%|██████████| 2.19M/2.19M [00:15<00:00, 144kiB/s]"
          ]
        },
        {
          "output_type": "stream",
          "name": "stdout",
          "text": [
            "[2024/03/03 00:00:40] ppocr DEBUG: Namespace(help='==SUPPRESS==', use_gpu=False, use_xpu=False, use_npu=False, ir_optim=True, use_tensorrt=False, min_subgraph_size=15, precision='fp32', gpu_mem=500, gpu_id=0, image_dir=None, page_num=0, det_algorithm='DB', det_model_dir='/root/.paddleocr/whl/det/en/en_PP-OCRv3_det_infer', det_limit_side_len=960, det_limit_type='max', det_box_type='quad', det_db_thresh=0.3, det_db_box_thresh=0.6, det_db_unclip_ratio=1.5, max_batch_size=10, use_dilation=False, det_db_score_mode='fast', det_east_score_thresh=0.8, det_east_cover_thresh=0.1, det_east_nms_thresh=0.2, det_sast_score_thresh=0.5, det_sast_nms_thresh=0.2, det_pse_thresh=0, det_pse_box_thresh=0.85, det_pse_min_area=16, det_pse_scale=1, scales=[8, 16, 32], alpha=1.0, beta=1.0, fourier_degree=5, rec_algorithm='SVTR_LCNet', rec_model_dir='/root/.paddleocr/whl/rec/en/en_PP-OCRv4_rec_infer', rec_image_inverse=True, rec_image_shape='3, 48, 320', rec_batch_num=6, max_text_length=25, rec_char_dict_path='/usr/local/lib/python3.10/dist-packages/paddleocr/ppocr/utils/en_dict.txt', use_space_char=True, vis_font_path='./doc/fonts/simfang.ttf', drop_score=0.5, e2e_algorithm='PGNet', e2e_model_dir=None, e2e_limit_side_len=768, e2e_limit_type='max', e2e_pgnet_score_thresh=0.5, e2e_char_dict_path='./ppocr/utils/ic15_dict.txt', e2e_pgnet_valid_set='totaltext', e2e_pgnet_mode='fast', use_angle_cls=False, cls_model_dir='/root/.paddleocr/whl/cls/ch_ppocr_mobile_v2.0_cls_infer', cls_image_shape='3, 48, 192', label_list=['0', '180'], cls_batch_num=6, cls_thresh=0.9, enable_mkldnn=False, cpu_threads=10, use_pdserving=False, warmup=False, sr_model_dir=None, sr_image_shape='3, 32, 128', sr_batch_num=1, draw_img_save_dir='./inference_results', save_crop_res=False, crop_res_save_dir='./output', use_mp=False, total_process_num=1, process_id=0, benchmark=False, save_log_path='./log_output/', show_log=True, use_onnx=False, output='./output', table_max_len=488, table_algorithm='TableAttn', table_model_dir=None, merge_no_span_structure=True, table_char_dict_path=None, layout_model_dir=None, layout_dict_path=None, layout_score_threshold=0.5, layout_nms_threshold=0.5, kie_algorithm='LayoutXLM', ser_model_dir=None, re_model_dir=None, use_visual_backbone=True, ser_dict_path='../train_data/XFUND/class_list_xfun.txt', ocr_order_method=None, mode='structure', image_orientation=False, layout=True, table=True, ocr=True, recovery=False, use_pdf2docx_api=False, invert=False, binarize=False, alphacolor=(255, 255, 255), lang='en', det=True, rec=True, type='ocr', ocr_version='PP-OCRv4', structure_version='PP-StructureV2')\n"
          ]
        },
        {
          "output_type": "stream",
          "name": "stderr",
          "text": [
            "\n"
          ]
        },
        {
          "output_type": "stream",
          "name": "stdout",
          "text": [
            "[2024/03/03 00:00:42] ppocr WARNING: Since the angle classifier is not initialized, it will not be used during the forward process\n",
            "[2024/03/03 00:00:42] ppocr DEBUG: dt_boxes num : 148, elapsed : 0.8623833656311035\n",
            "[2024/03/03 00:00:50] ppocr DEBUG: rec_res num  : 148, elapsed : 7.096258878707886\n"
          ]
        }
      ]
    },
    {
      "cell_type": "code",
      "source": [
        "print(output)"
      ],
      "metadata": {
        "colab": {
          "base_uri": "https://localhost:8080/"
        },
        "id": "TIbGWzIlm5cf",
        "outputId": "9dc1e918-2898-4683-82b1-43c7c28b1974"
      },
      "execution_count": null,
      "outputs": [
        {
          "output_type": "stream",
          "name": "stdout",
          "text": [
            "[[[[588.0, 0.0], [850.0, 0.0], [850.0, 17.0], [588.0, 17.0]], ('airetedu30/00/2023', 0.7159411907196045)], [[[558.0, 32.0], [871.0, 33.0], [871.0, 55.0], [558.0, 54.0]], ('Unite en millier de Dinars Tunisiens', 0.9825566411018372)], [[[152.0, 115.0], [301.0, 119.0], [300.0, 152.0], [152.0, 148.0]], ('Designation', 0.9995548129081726)], [[[518.0, 113.0], [597.0, 117.0], [595.0, 152.0], [516.0, 148.0]], ('Notes', 0.9997004270553589)], [[[646.0, 117.0], [775.0, 117.0], [775.0, 150.0], [646.0, 150.0]], ('30/06/2023', 0.9990930557250977)], [[[847.0, 117.0], [977.0, 117.0], [977.0, 150.0], [847.0, 150.0]], ('30/06/2022', 0.9993549585342407)], [[[1019.0, 112.0], [1186.0, 117.0], [1185.0, 152.0], [1018.0, 146.0]], ('30/06/2022 (*)', 0.9983350038528442)], [[[1216.0, 117.0], [1348.0, 113.0], [1349.0, 146.0], [1217.0, 150.0]], ('31/12/2022', 0.9999561309814453)], [[[155.0, 204.0], [448.0, 204.0], [448.0, 230.0], [155.0, 230.0]], ('Caisse et avoirs aupres de Ia', 0.9680880904197693)], [[[59.0, 216.0], [110.0, 216.0], [110.0, 248.0], [59.0, 248.0]], ('AC1', 0.9996920228004456)], [[[532.0, 216.0], [590.0, 216.0], [590.0, 252.0], [532.0, 252.0]], ('(1-1)', 0.9908625483512878)], [[[714.0, 215.0], [804.0, 211.0], [806.0, 246.0], [716.0, 250.0]], ('510 989', 0.9589108824729919)], [[[914.0, 216.0], [1005.0, 216.0], [1005.0, 249.0], [914.0, 249.0]], ('477 083', 0.9987238645553589)], [[[1096.0, 216.0], [1186.0, 216.0], [1186.0, 249.0], [1096.0, 249.0]], ('477 083', 0.999504029750824)], [[[1282.0, 216.0], [1373.0, 216.0], [1373.0, 249.0], [1282.0, 249.0]], ('445 813', 0.9985978007316589)], [[[155.0, 235.0], [339.0, 235.0], [339.0, 262.0], [155.0, 262.0]], ('BCT, CCP et TGT', 0.975071907043457)], [[[155.0, 268.0], [483.0, 268.0], [483.0, 295.0], [155.0, 295.0]], ('Creances sur les etablissements', 0.9906448721885681)], [[[59.0, 281.0], [110.0, 281.0], [110.0, 312.0], [59.0, 312.0]], ('AC2', 0.999605119228363)], [[[532.0, 279.0], [590.0, 279.0], [590.0, 317.0], [532.0, 317.0]], ('(1-2)', 0.9965960383415222)], [[[718.0, 281.0], [804.0, 281.0], [804.0, 309.0], [718.0, 309.0]], ('451 759', 0.963869035243988)], [[[916.0, 282.0], [1004.0, 282.0], [1004.0, 311.0], [916.0, 311.0]], ('332 428', 0.999442458152771)], [[[1095.0, 279.0], [1186.0, 279.0], [1186.0, 312.0], [1095.0, 312.0]], ('332 428', 0.9995785355567932)], [[[1282.0, 281.0], [1371.0, 281.0], [1371.0, 314.0], [1282.0, 314.0]], ('142 141', 0.9950140118598938)], [[[152.0, 298.0], [384.0, 302.0], [383.0, 328.0], [152.0, 325.0]], ('bancaires et financiers', 0.9941446185112)], [[[59.0, 335.0], [110.0, 335.0], [110.0, 365.0], [59.0, 365.0]], ('AC3', 0.9998281002044678)], [[[157.0, 339.0], [403.0, 339.0], [403.0, 361.0], [157.0, 361.0]], ('Creances sur la clientele', 0.9866534471511841)], [[[532.0, 333.0], [590.0, 333.0], [590.0, 369.0], [532.0, 369.0]], ('(1-3)', 0.9962899088859558)], [[[698.0, 336.0], [804.0, 336.0], [804.0, 363.0], [698.0, 363.0]], ('6 991 842', 0.9864664077758789)], [[[897.0, 335.0], [1002.0, 335.0], [1002.0, 363.0], [897.0, 363.0]], ('6 541 211', 0.9929116368293762)], [[[1079.0, 335.0], [1183.0, 335.0], [1183.0, 363.0], [1079.0, 363.0]], ('6 541 211', 0.9815059304237366)], [[[1264.0, 336.0], [1370.0, 336.0], [1370.0, 363.0], [1264.0, 363.0]], ('6 889 784', 0.94404137134552)], [[[59.0, 379.0], [110.0, 379.0], [110.0, 409.0], [59.0, 409.0]], ('AC4', 0.9991971850395203)], [[[154.0, 379.0], [476.0, 380.0], [476.0, 409.0], [153.0, 407.0]], ('Portefeuille-titres commercial (*)', 0.9859874844551086)], [[[532.0, 377.0], [590.0, 377.0], [590.0, 413.0], [532.0, 413.0]], ('(1-4)', 0.9927797317504883)], [[[729.0, 379.0], [804.0, 379.0], [804.0, 409.0], [729.0, 409.0]], ('26 776', 0.9986125826835632)], [[[917.0, 375.0], [1004.0, 379.0], [1003.0, 409.0], [915.0, 405.0]], ('164 938', 0.9865580797195435)], [[[1111.0, 379.0], [1184.0, 379.0], [1184.0, 409.0], [1111.0, 409.0]], ('19 020', 0.9991607666015625)], [[[1295.0, 379.0], [1371.0, 379.0], [1371.0, 409.0], [1295.0, 409.0]], ('72 286', 0.9997124671936035)], [[[58.0, 423.0], [112.0, 423.0], [112.0, 453.0], [58.0, 453.0]], ('AC5', 0.9996970295906067)], [[[150.0, 420.0], [473.0, 423.0], [473.0, 455.0], [150.0, 451.0]], (\"Portefeuille d'investissement (*)\", 0.9704468250274658)], [[[532.0, 421.0], [590.0, 421.0], [590.0, 458.0], [532.0, 458.0]], ('(1-5)', 0.9940508008003235)], [[[698.0, 423.0], [804.0, 423.0], [804.0, 451.0], [698.0, 451.0]], ('2 417 450', 0.9926025867462158)], [[[897.0, 423.0], [1004.0, 423.0], [1004.0, 451.0], [897.0, 451.0]], ('2 078 436', 0.9982517957687378)], [[[1077.0, 423.0], [1184.0, 423.0], [1184.0, 451.0], [1077.0, 451.0]], ('2 224 354', 0.9977190494537354)], [[[1264.0, 423.0], [1370.0, 423.0], [1370.0, 451.0], [1264.0, 451.0]], ('2 296 013', 0.9954583048820496)], [[[58.0, 467.0], [110.0, 467.0], [110.0, 497.0], [58.0, 497.0]], ('AC6', 0.9995004534721375)], [[[152.0, 469.0], [371.0, 469.0], [371.0, 496.0], [152.0, 496.0]], ('Valeurs immobilisees', 0.9990418553352356)], [[[532.0, 466.0], [590.0, 466.0], [590.0, 502.0], [532.0, 502.0]], ('(1-6)', 0.9975537061691284)], [[[717.0, 464.0], [804.0, 468.0], [803.0, 497.0], [716.0, 494.0]], ('417 603', 0.9956880807876587)], [[[916.0, 467.0], [1002.0, 467.0], [1002.0, 496.0], [916.0, 496.0]], ('296 811', 0.9991278052330017)], [[[1098.0, 467.0], [1184.0, 467.0], [1184.0, 496.0], [1098.0, 496.0]], ('296 811', 0.9988948702812195)], [[[1282.0, 466.0], [1371.0, 466.0], [1371.0, 499.0], [1282.0, 499.0]], ('397 473', 0.9998490214347839)], [[[58.0, 510.0], [110.0, 510.0], [110.0, 540.0], [58.0, 540.0]], ('AC7', 0.9990574717521667)], [[[152.0, 511.0], [281.0, 511.0], [281.0, 538.0], [152.0, 538.0]], ('Autres actifs', 0.9681767821311951)], [[[532.0, 508.0], [590.0, 508.0], [590.0, 544.0], [532.0, 544.0]], ('(1-7)', 0.9942132234573364)], [[[718.0, 508.0], [807.0, 508.0], [807.0, 541.0], [718.0, 541.0]], ('178 394', 0.9857892394065857)], [[[914.0, 508.0], [1004.0, 508.0], [1004.0, 541.0], [914.0, 541.0]], ('210 291', 0.9993022084236145)], [[[1095.0, 508.0], [1184.0, 508.0], [1184.0, 541.0], [1095.0, 541.0]], ('210 291', 0.9992373585700989)], [[[1283.0, 511.0], [1371.0, 511.0], [1371.0, 540.0], [1283.0, 540.0]], ('163 260', 0.9987767338752747)], [[[153.0, 603.0], [288.0, 603.0], [288.0, 631.0], [153.0, 631.0]], ('Total actifs', 0.9927513599395752)], [[[678.0, 603.0], [804.0, 603.0], [804.0, 631.0], [678.0, 631.0]], ('10 994 813', 0.9053215980529785)], [[[874.0, 603.0], [1002.0, 603.0], [1002.0, 631.0], [874.0, 631.0]], ('10 101198', 0.969350278377533)], [[[1055.0, 603.0], [1184.0, 603.0], [1184.0, 631.0], [1055.0, 631.0]], ('10 101198', 0.9634698033332825)], [[[1220.0, 603.0], [1349.0, 603.0], [1349.0, 631.0], [1220.0, 631.0]], ('10 406 770', 0.900239109992981)], [[[58.0, 690.0], [110.0, 690.0], [110.0, 720.0], [58.0, 720.0]], ('PA1', 0.9993889927864075)], [[[155.0, 691.0], [384.0, 691.0], [384.0, 718.0], [155.0, 718.0]], ('Banque Centrale, CCP', 0.998965859413147)], [[[530.0, 689.0], [587.0, 684.0], [591.0, 722.0], [533.0, 727.0]], ('(2-1)', 0.9981679916381836)], [[[718.0, 690.0], [806.0, 690.0], [806.0, 718.0], [718.0, 718.0]], ('864 211', 0.9108222723007202)], [[[916.0, 690.0], [1004.0, 690.0], [1004.0, 718.0], [916.0, 718.0]], ('918 431', 0.9984210133552551)], [[[1096.0, 690.0], [1184.0, 690.0], [1184.0, 718.0], [1096.0, 718.0]], ('918 431', 0.997832715511322)], [[[1282.0, 690.0], [1370.0, 690.0], [1370.0, 718.0], [1282.0, 718.0]], ('815 324', 0.99824059009552)], [[[155.0, 729.0], [364.0, 729.0], [364.0, 756.0], [155.0, 756.0]], ('Depots et avoirs des', 0.9998741149902344)], [[[58.0, 759.0], [112.0, 759.0], [112.0, 789.0], [58.0, 789.0]], ('PA2', 0.9991214275360107)], [[[154.0, 759.0], [438.0, 761.0], [438.0, 788.0], [153.0, 786.0]], ('etablissements bancaires et', 0.9956924915313721)], [[[532.0, 758.0], [590.0, 758.0], [590.0, 794.0], [532.0, 794.0]], ('(2-2)', 0.9974260330200195)], [[[716.0, 758.0], [806.0, 758.0], [806.0, 791.0], [716.0, 791.0]], ('272 658', 0.9996013641357422)], [[[914.0, 759.0], [1004.0, 759.0], [1004.0, 787.0], [914.0, 787.0]], ('276 249', 0.9755459427833557)], [[[1095.0, 758.0], [1186.0, 758.0], [1186.0, 791.0], [1095.0, 791.0]], ('276 249', 0.9993076920509338)], [[[1281.0, 756.0], [1372.0, 759.0], [1370.0, 789.0], [1280.0, 786.0]], ('242 370', 0.999614417552948)], [[[153.0, 790.0], [256.0, 794.0], [255.0, 823.0], [152.0, 819.0]], ('financiers', 0.9989520311355591)], [[[59.0, 829.0], [110.0, 829.0], [110.0, 858.0], [59.0, 858.0]], ('PA3', 0.9993979334831238)], [[[153.0, 832.0], [464.0, 832.0], [464.0, 858.0], [153.0, 858.0]], ('Depots et avoirs de la clientele', 0.9825476408004761)], [[[532.0, 827.0], [590.0, 827.0], [590.0, 863.0], [532.0, 863.0]], ('(2-3)', 0.997021496295929)], [[[698.0, 827.0], [804.0, 830.0], [803.0, 859.0], [697.0, 855.0]], ('7 505 478', 0.9984791874885559)], [[[895.0, 827.0], [1002.0, 827.0], [1002.0, 855.0], [895.0, 855.0]], ('6 619 725', 0.9872920513153076)], [[[1077.0, 829.0], [1184.0, 829.0], [1184.0, 857.0], [1077.0, 857.0]], ('6 619 725', 0.9788990020751953)], [[[1264.0, 830.0], [1371.0, 830.0], [1371.0, 858.0], [1264.0, 858.0]], ('6 990 819', 0.9536816477775574)], [[[155.0, 868.0], [404.0, 868.0], [404.0, 895.0], [155.0, 895.0]], ('Emprunts et Ressources', 0.9904399514198303)], [[[59.0, 882.0], [112.0, 882.0], [112.0, 914.0], [59.0, 914.0]], ('PA4', 0.9943466186523438)], [[[532.0, 881.0], [590.0, 881.0], [590.0, 918.0], [532.0, 918.0]], ('(2-4)', 0.9966232180595398)], [[[718.0, 884.0], [804.0, 884.0], [804.0, 912.0], [718.0, 912.0]], ('766 842', 0.9979687929153442)], [[[916.0, 884.0], [1004.0, 884.0], [1004.0, 912.0], [916.0, 912.0]], ('840 359', 0.9989262223243713)], [[[1096.0, 884.0], [1184.0, 884.0], [1184.0, 912.0], [1096.0, 912.0]], ('840 359', 0.997787356376648)], [[[1282.0, 882.0], [1370.0, 882.0], [1370.0, 911.0], [1282.0, 911.0]], ('825 551', 0.970072865486145)], [[[153.0, 901.0], [253.0, 901.0], [253.0, 930.0], [153.0, 930.0]], ('speciales', 0.9997126460075378)], [[[59.0, 936.0], [110.0, 936.0], [110.0, 967.0], [59.0, 967.0]], ('PA5', 0.9996282458305359)], [[[153.0, 937.0], [299.0, 937.0], [299.0, 966.0], [153.0, 966.0]], ('Autres passifs', 0.9999266266822815)], [[[533.0, 930.0], [591.0, 935.0], [587.0, 973.0], [530.0, 968.0]], ('(2-5)', 0.9959336519241333)], [[[716.0, 934.0], [807.0, 934.0], [807.0, 969.0], [716.0, 969.0]], ('225 332', 0.9988513588905334)], [[[914.0, 937.0], [1002.0, 937.0], [1002.0, 966.0], [914.0, 966.0]], ('214 701', 0.9995272755622864)], [[[1095.0, 936.0], [1186.0, 936.0], [1186.0, 969.0], [1095.0, 969.0]], ('214 701', 0.9991170763969421)], [[[1283.0, 937.0], [1370.0, 937.0], [1370.0, 966.0], [1283.0, 966.0]], ('230 533', 0.9873005747795105)], [[[155.0, 1027.0], [307.0, 1027.0], [307.0, 1056.0], [155.0, 1056.0]], ('Total passifs', 0.9827100038528442)], [[[687.0, 1023.0], [802.0, 1023.0], [802.0, 1056.0], [687.0, 1056.0]], ('9 634 521', 0.984295129776001)], [[[884.0, 1024.0], [1005.0, 1024.0], [1005.0, 1057.0], [884.0, 1057.0]], ('8 869 465', 0.9111915230751038)], [[[1066.0, 1024.0], [1186.0, 1024.0], [1186.0, 1057.0], [1066.0, 1057.0]], ('8869465', 0.9966551661491394)], [[[1252.0, 1024.0], [1371.0, 1024.0], [1371.0, 1057.0], [1252.0, 1057.0]], ('9 104 597', 0.9966952800750732)], [[[59.0, 1113.0], [110.0, 1113.0], [110.0, 1144.0], [59.0, 1144.0]], ('CP1', 0.9996757507324219)], [[[152.0, 1114.0], [229.0, 1114.0], [229.0, 1144.0], [152.0, 1144.0]], ('Capital', 0.9997825622558594)], [[[718.0, 1111.0], [807.0, 1111.0], [807.0, 1144.0], [718.0, 1144.0]], ('132 405', 0.9825459122657776)], [[[916.0, 1113.0], [1002.0, 1113.0], [1002.0, 1141.0], [916.0, 1141.0]], ('132 405', 0.9987530708312988)], [[[1096.0, 1113.0], [1186.0, 1113.0], [1186.0, 1146.0], [1096.0, 1146.0]], ('132 405', 0.9997220635414124)], [[[1282.0, 1113.0], [1373.0, 1113.0], [1373.0, 1146.0], [1282.0, 1146.0]], ('132 405', 0.9997590780258179)], [[[59.0, 1155.0], [110.0, 1155.0], [110.0, 1187.0], [59.0, 1187.0]], ('CP2', 0.9977110028266907)], [[[153.0, 1155.0], [254.0, 1159.0], [253.0, 1189.0], [151.0, 1185.0]], ('Reserves', 0.9997660517692566)], [[[698.0, 1158.0], [804.0, 1158.0], [804.0, 1185.0], [698.0, 1185.0]], ('1 114 859', 0.9017552137374878)], [[[898.0, 1157.0], [1004.0, 1157.0], [1004.0, 1185.0], [898.0, 1185.0]], ('1 014 792', 0.9972037076950073)], [[[1079.0, 1157.0], [1184.0, 1157.0], [1184.0, 1185.0], [1079.0, 1185.0]], ('1 014 792', 0.9865108132362366)], [[[1263.0, 1155.0], [1372.0, 1159.0], [1371.0, 1187.0], [1262.0, 1183.0]], ('1 014 465', 0.974797248840332)], [[[58.0, 1198.0], [113.0, 1198.0], [113.0, 1234.0], [58.0, 1234.0]], ('CP4', 0.996264636516571)], [[[151.0, 1199.0], [397.0, 1203.0], [396.0, 1234.0], [150.0, 1231.0]], ('Autres capitaux propres', 0.9999542236328125)], [[[762.0, 1197.0], [806.0, 1201.0], [803.0, 1234.0], [759.0, 1230.0]], ('423', 0.9996175169944763)], [[[960.0, 1197.0], [1006.0, 1201.0], [1003.0, 1234.0], [957.0, 1230.0]], ('423', 0.999905526638031)], [[[1140.0, 1201.0], [1188.0, 1201.0], [1188.0, 1233.0], [1140.0, 1233.0]], ('423', 0.9997488856315613)], [[[1327.0, 1201.0], [1373.0, 1201.0], [1373.0, 1233.0], [1327.0, 1233.0]], ('423', 0.9999392628669739)], [[[59.0, 1244.0], [110.0, 1244.0], [110.0, 1275.0], [59.0, 1275.0]], ('CP5', 0.9990965723991394)], [[[152.0, 1245.0], [341.0, 1248.0], [340.0, 1277.0], [152.0, 1273.0]], ('Resultats reportes', 0.9919726252555847)], [[[785.0, 1247.0], [807.0, 1247.0], [807.0, 1274.0], [785.0, 1274.0]], ('1', 0.9996128678321838)], [[[983.0, 1247.0], [1005.0, 1247.0], [1005.0, 1274.0], [983.0, 1274.0]], ('1', 0.9995219707489014)], [[[1165.0, 1247.0], [1188.0, 1247.0], [1188.0, 1274.0], [1165.0, 1274.0]], ('1', 0.9996774196624756)], [[[1352.0, 1247.0], [1371.0, 1247.0], [1371.0, 1274.0], [1352.0, 1274.0]], ('1', 0.9998164772987366)], [[[59.0, 1289.0], [110.0, 1289.0], [110.0, 1319.0], [59.0, 1319.0]], ('CP6', 0.9989171028137207)], [[[153.0, 1291.0], [372.0, 1291.0], [372.0, 1318.0], [153.0, 1318.0]], (\"Resultat de I'exercice\", 0.9991509914398193)], [[[718.0, 1288.0], [807.0, 1288.0], [807.0, 1321.0], [718.0, 1321.0]], ('112 604', 0.9901140332221985)], [[[927.0, 1289.0], [1004.0, 1289.0], [1004.0, 1319.0], [927.0, 1319.0]], ('84 112', 0.9992930889129639)], [[[1109.0, 1289.0], [1186.0, 1289.0], [1186.0, 1319.0], [1109.0, 1319.0]], ('84 112', 0.9993161559104919)], [[[1283.0, 1286.0], [1372.0, 1290.0], [1370.0, 1320.0], [1281.0, 1316.0]], ('154 879', 0.9993148446083069)], [[[154.0, 1378.0], [425.0, 1381.0], [425.0, 1413.0], [153.0, 1409.0]], ('Total capitaux propres', 0.9892116189002991)], [[[540.0, 1378.0], [580.0, 1378.0], [580.0, 1414.0], [540.0, 1414.0]], ('(3)', 0.9896159768104553)], [[[687.0, 1378.0], [806.0, 1378.0], [806.0, 1411.0], [687.0, 1411.0]], ('1 360292', 0.9961049556732178)], [[[887.0, 1379.0], [1002.0, 1379.0], [1002.0, 1408.0], [887.0, 1408.0]], ('1 231733', 0.9459851980209351)], [[[1068.0, 1379.0], [1183.0, 1379.0], [1183.0, 1408.0], [1068.0, 1408.0]], ('1 231 733', 0.9041348695755005)], [[[1252.0, 1374.0], [1372.0, 1378.0], [1371.0, 1413.0], [1251.0, 1409.0]], ('1 302 173', 0.9913885593414307)], [[[155.0, 1468.0], [545.0, 1468.0], [545.0, 1499.0], [155.0, 1499.0]], ('Total capitaux propres et passifs', 0.9825074076652527)], [[[676.0, 1466.0], [804.0, 1466.0], [804.0, 1499.0], [676.0, 1499.0]], ('10 994 813', 0.9541529417037964)], [[[874.0, 1466.0], [1005.0, 1466.0], [1005.0, 1499.0], [874.0, 1499.0]], ('10 101 198', 0.9560461044311523)], [[[1053.0, 1466.0], [1184.0, 1466.0], [1184.0, 1499.0], [1053.0, 1499.0]], ('10 101 198', 0.9207140207290649)], [[[1240.0, 1466.0], [1371.0, 1466.0], [1371.0, 1499.0], [1240.0, 1499.0]], ('10 406 770', 0.9745824933052063)]]\n"
          ]
        }
      ]
    },
    {
      "cell_type": "code",
      "source": [
        "boxes = [line[0] for line in output]\n",
        "texts = [line[1][0] for line in output]\n",
        "probabilities = [line[1][1] for line in output]"
      ],
      "metadata": {
        "id": "cRYyZmTsnSTD"
      },
      "execution_count": null,
      "outputs": []
    },
    {
      "cell_type": "code",
      "source": [
        "image_boxes = image_cv.copy()\n"
      ],
      "metadata": {
        "id": "1eWSoWDMnflB"
      },
      "execution_count": null,
      "outputs": []
    },
    {
      "cell_type": "code",
      "source": [
        "for box,text in zip(boxes,texts):\n",
        "  cv2.rectangle(image_boxes, (int(box[0][0]),int(box[0][1])), (int(box[2][0]),int(box[2][1])),(0,0,255),1)\n",
        "  cv2.putText(image_boxes, text,(int(box[0][0]),int(box[0][1])),cv2.FONT_HERSHEY_SIMPLEX,1,(222,0,0),1)"
      ],
      "metadata": {
        "id": "XFiSzKdXnh5S"
      },
      "execution_count": null,
      "outputs": []
    },
    {
      "cell_type": "code",
      "source": [
        "cv2.imwrite('detections.jpg', image_boxes)"
      ],
      "metadata": {
        "colab": {
          "base_uri": "https://localhost:8080/"
        },
        "id": "guPhC2XNnjsu",
        "outputId": "ef03e8aa-8799-491a-e03c-67f9fe6c721b"
      },
      "execution_count": null,
      "outputs": [
        {
          "output_type": "execute_result",
          "data": {
            "text/plain": [
              "True"
            ]
          },
          "metadata": {},
          "execution_count": 9
        }
      ]
    },
    {
      "cell_type": "code",
      "source": [
        "im = image_cv.copy()"
      ],
      "metadata": {
        "id": "4VEjCPnunmgS"
      },
      "execution_count": null,
      "outputs": []
    },
    {
      "cell_type": "code",
      "source": [
        "horiz_boxes = []\n",
        "vert_boxes = []\n",
        "\n",
        "for box in boxes:\n",
        "  x_h, x_v = 0,int(box[0][0])\n",
        "  y_h, y_v = int(box[0][1]),0\n",
        "  width_h,width_v = image_width, int(box[2][0]-box[0][0])\n",
        "  height_h,height_v = int(box[2][1]-box[0][1]),image_height\n",
        "\n",
        "  horiz_boxes.append([x_h,y_h,x_h+width_h,y_h+height_h])\n",
        "  vert_boxes.append([x_v,y_v,x_v+width_v,y_v+height_v])\n",
        "\n",
        "  cv2.rectangle(im,(x_h,y_h), (x_h+width_h,y_h+height_h),(0,0,255),1)\n",
        "  cv2.rectangle(im,(x_v,y_v), (x_v+width_v,y_v+height_v),(0,255,0),1)\n"
      ],
      "metadata": {
        "id": "TshiK8IcnxI4"
      },
      "execution_count": null,
      "outputs": []
    },
    {
      "cell_type": "code",
      "source": [
        "cv2.imwrite('horiz_vert.jpg',im)"
      ],
      "metadata": {
        "colab": {
          "base_uri": "https://localhost:8080/"
        },
        "id": "nV_bRCfsnzeJ",
        "outputId": "e583801d-8498-471a-f42b-874e76e1edad"
      },
      "execution_count": null,
      "outputs": [
        {
          "output_type": "execute_result",
          "data": {
            "text/plain": [
              "True"
            ]
          },
          "metadata": {},
          "execution_count": 12
        }
      ]
    },
    {
      "cell_type": "code",
      "source": [
        "horiz_out = tf.image.non_max_suppression(\n",
        "    horiz_boxes,\n",
        "    probabilities,\n",
        "    max_output_size = 1000,\n",
        "    iou_threshold=0.1,\n",
        "    score_threshold=float('-inf'),\n",
        "    name=None\n",
        ")"
      ],
      "metadata": {
        "id": "3k-NVx-0n11G"
      },
      "execution_count": null,
      "outputs": []
    },
    {
      "cell_type": "code",
      "source": [
        "horiz_lines = np.sort(np.array(horiz_out))\n",
        "print(horiz_lines)"
      ],
      "metadata": {
        "colab": {
          "base_uri": "https://localhost:8080/"
        },
        "id": "o30AcG-tn-ER",
        "outputId": "f9ed7467-e90b-493c-812c-3a899c7401d3"
      },
      "execution_count": null,
      "outputs": [
        {
          "output_type": "stream",
          "name": "stdout",
          "text": [
            "[  0   1   7   9  17  24  37  38  51  56  59  64  71  78  79  80  87  94\n",
            "  96 106 108 114 120 130 135 139 143]\n"
          ]
        }
      ]
    },
    {
      "cell_type": "code",
      "source": [
        "im_nms = image_cv.copy()"
      ],
      "metadata": {
        "id": "72yZT7m0n_xM"
      },
      "execution_count": null,
      "outputs": []
    },
    {
      "cell_type": "code",
      "source": [
        "for val in horiz_lines:\n",
        "  cv2.rectangle(im_nms, (int(horiz_boxes[val][0]),int(horiz_boxes[val][1])), (int(horiz_boxes[val][2]),int(horiz_boxes[val][3])),(0,0,255),1)\n"
      ],
      "metadata": {
        "id": "AmPSKRnNoC18"
      },
      "execution_count": null,
      "outputs": []
    },
    {
      "cell_type": "code",
      "source": [
        "cv2.imwrite('im_nms.jpg',im_nms)"
      ],
      "metadata": {
        "colab": {
          "base_uri": "https://localhost:8080/"
        },
        "id": "x-wcNjSXoFTs",
        "outputId": "478614fb-00b8-4759-f733-5aa317ce43e9"
      },
      "execution_count": null,
      "outputs": [
        {
          "output_type": "execute_result",
          "data": {
            "text/plain": [
              "True"
            ]
          },
          "metadata": {},
          "execution_count": 17
        }
      ]
    },
    {
      "cell_type": "code",
      "source": [
        "vert_out = tf.image.non_max_suppression(\n",
        "    vert_boxes,\n",
        "    probabilities,\n",
        "    max_output_size = 1000,\n",
        "    iou_threshold=0.1,\n",
        "    score_threshold=float('-inf'),\n",
        "    name=None\n",
        ")"
      ],
      "metadata": {
        "id": "fGL3iuanoI6B"
      },
      "execution_count": null,
      "outputs": []
    },
    {
      "cell_type": "code",
      "source": [
        "print(vert_out)"
      ],
      "metadata": {
        "colab": {
          "base_uri": "https://localhost:8080/"
        },
        "id": "oiQh7T6hoLNZ",
        "outputId": "6ea3732c-729c-4f71-e317-1345c5bb7667"
      },
      "execution_count": null,
      "outputs": [
        {
          "output_type": "stream",
          "name": "stdout",
          "text": [
            "tf.Tensor([  7 120 122  24 130 123   3 121   4], shape=(9,), dtype=int32)\n"
          ]
        }
      ]
    },
    {
      "cell_type": "code",
      "source": [
        "vert_lines = np.sort(np.array(vert_out))\n",
        "print(vert_lines)"
      ],
      "metadata": {
        "colab": {
          "base_uri": "https://localhost:8080/"
        },
        "id": "1dSRf9hkoNBm",
        "outputId": "8f382425-b9a8-472d-c3b5-20354845262a"
      },
      "execution_count": null,
      "outputs": [
        {
          "output_type": "stream",
          "name": "stdout",
          "text": [
            "[  3   4   7  24 120 121 122 123 130]\n"
          ]
        }
      ]
    },
    {
      "cell_type": "code",
      "source": [
        "for val in vert_lines:\n",
        "  cv2.rectangle(im_nms, (int(vert_boxes[val][0]),int(vert_boxes[val][1])), (int(vert_boxes[val][2]),int(vert_boxes[val][3])),(255,0,0),1)\n"
      ],
      "metadata": {
        "id": "47EfA2wdoO30"
      },
      "execution_count": null,
      "outputs": []
    },
    {
      "cell_type": "code",
      "source": [
        "cv2.imwrite('im_nms.jpg',im_nms)"
      ],
      "metadata": {
        "colab": {
          "base_uri": "https://localhost:8080/"
        },
        "id": "R_c-BeAioRX4",
        "outputId": "926736dc-9294-4463-8f57-119a41c639ed"
      },
      "execution_count": null,
      "outputs": [
        {
          "output_type": "execute_result",
          "data": {
            "text/plain": [
              "True"
            ]
          },
          "metadata": {},
          "execution_count": 22
        }
      ]
    },
    {
      "cell_type": "code",
      "source": [
        "\n",
        "\n",
        "out_array = [[\"\" for i in range(len(vert_lines))] for j in range(len(horiz_lines))]\n",
        "print(np.array(out_array).shape)\n",
        "print(out_array)"
      ],
      "metadata": {
        "colab": {
          "base_uri": "https://localhost:8080/"
        },
        "id": "0mepm048oWHA",
        "outputId": "9f173158-b458-4dc6-e25e-dbd9016adb36"
      },
      "execution_count": null,
      "outputs": [
        {
          "output_type": "stream",
          "name": "stdout",
          "text": [
            "(27, 9)\n",
            "[['', '', '', '', '', '', '', '', ''], ['', '', '', '', '', '', '', '', ''], ['', '', '', '', '', '', '', '', ''], ['', '', '', '', '', '', '', '', ''], ['', '', '', '', '', '', '', '', ''], ['', '', '', '', '', '', '', '', ''], ['', '', '', '', '', '', '', '', ''], ['', '', '', '', '', '', '', '', ''], ['', '', '', '', '', '', '', '', ''], ['', '', '', '', '', '', '', '', ''], ['', '', '', '', '', '', '', '', ''], ['', '', '', '', '', '', '', '', ''], ['', '', '', '', '', '', '', '', ''], ['', '', '', '', '', '', '', '', ''], ['', '', '', '', '', '', '', '', ''], ['', '', '', '', '', '', '', '', ''], ['', '', '', '', '', '', '', '', ''], ['', '', '', '', '', '', '', '', ''], ['', '', '', '', '', '', '', '', ''], ['', '', '', '', '', '', '', '', ''], ['', '', '', '', '', '', '', '', ''], ['', '', '', '', '', '', '', '', ''], ['', '', '', '', '', '', '', '', ''], ['', '', '', '', '', '', '', '', ''], ['', '', '', '', '', '', '', '', ''], ['', '', '', '', '', '', '', '', ''], ['', '', '', '', '', '', '', '', '']]\n"
          ]
        }
      ]
    },
    {
      "cell_type": "code",
      "source": [
        "\n",
        "unordered_boxes = []\n",
        "\n",
        "for i in vert_lines:\n",
        "  print(vert_boxes[i])\n",
        "  unordered_boxes.append(vert_boxes[i][0])"
      ],
      "metadata": {
        "colab": {
          "base_uri": "https://localhost:8080/"
        },
        "id": "pn6fRHkNohJw",
        "outputId": "a2600bc5-e390-46d0-b791-44de6c1f0105"
      },
      "execution_count": null,
      "outputs": [
        {
          "output_type": "stream",
          "name": "stdout",
          "text": [
            "[518, 0, 595, 1515]\n",
            "[646, 0, 775, 1515]\n",
            "[1216, 0, 1349, 1515]\n",
            "[59, 0, 110, 1515]\n",
            "[151, 0, 396, 1515]\n",
            "[762, 0, 803, 1515]\n",
            "[960, 0, 1003, 1515]\n",
            "[1140, 0, 1188, 1515]\n",
            "[1352, 0, 1371, 1515]\n"
          ]
        }
      ]
    },
    {
      "cell_type": "code",
      "source": [
        "ordered_boxes = np.argsort(unordered_boxes)\n",
        "print(ordered_boxes)"
      ],
      "metadata": {
        "colab": {
          "base_uri": "https://localhost:8080/"
        },
        "id": "72Z-4ZByojTp",
        "outputId": "6c9b5aaf-743c-4334-9c4c-d4336306adf7"
      },
      "execution_count": null,
      "outputs": [
        {
          "output_type": "stream",
          "name": "stdout",
          "text": [
            "[3 4 0 1 5 6 7 2 8]\n"
          ]
        }
      ]
    },
    {
      "cell_type": "code",
      "source": [
        "def intersection(box_1, box_2):\n",
        "  return [box_2[0], box_1[1],box_2[2], box_1[3]]"
      ],
      "metadata": {
        "id": "Kvjz8w6oolJY"
      },
      "execution_count": null,
      "outputs": []
    },
    {
      "cell_type": "code",
      "source": [
        "def iou(box_1, box_2):\n",
        "\n",
        "  x_1 = max(box_1[0], box_2[0])\n",
        "  y_1 = max(box_1[1], box_2[1])\n",
        "  x_2 = min(box_1[2], box_2[2])\n",
        "  y_2 = min(box_1[3], box_2[3])\n",
        "\n",
        "  inter = abs(max((x_2 - x_1, 0)) * max((y_2 - y_1), 0))\n",
        "  if inter == 0:\n",
        "      return 0\n",
        "\n",
        "  box_1_area = abs((box_1[2] - box_1[0]) * (box_1[3] - box_1[1]))\n",
        "  box_2_area = abs((box_2[2] - box_2[0]) * (box_2[3] - box_2[1]))\n",
        "\n",
        "  return inter / float(box_1_area + box_2_area - inter)"
      ],
      "metadata": {
        "id": "HAoKvRPBomhP"
      },
      "execution_count": null,
      "outputs": []
    },
    {
      "cell_type": "code",
      "source": [
        "for i in range(len(horiz_lines)):\n",
        "  for j in range(len(vert_lines)):\n",
        "    resultant = intersection(horiz_boxes[horiz_lines[i]], vert_boxes[vert_lines[ordered_boxes[j]]] )\n",
        "\n",
        "    for b in range(len(boxes)):\n",
        "      the_box = [boxes[b][0][0],boxes[b][0][1],boxes[b][2][0],boxes[b][2][1]]\n",
        "      if(iou(resultant,the_box)>0.1):\n",
        "        out_array[i][j] = texts[b]"
      ],
      "metadata": {
        "id": "N9sj_4KSooDU"
      },
      "execution_count": null,
      "outputs": []
    },
    {
      "cell_type": "code",
      "source": [
        "out_array=np.array(out_array)"
      ],
      "metadata": {
        "id": "sUTGkoURop50"
      },
      "execution_count": null,
      "outputs": []
    },
    {
      "cell_type": "code",
      "source": [
        "out_array"
      ],
      "metadata": {
        "colab": {
          "base_uri": "https://localhost:8080/"
        },
        "id": "AEPRoa-IosKA",
        "outputId": "04c9ddfd-473c-4bb8-c67c-dfa9a41c5651"
      },
      "execution_count": null,
      "outputs": [
        {
          "output_type": "execute_result",
          "data": {
            "text/plain": [
              "array([['', '', '', 'airetedu30/00/2023', 'airetedu30/00/2023', '', '',\n",
              "        '', ''],\n",
              "       ['', '', 'Unite en millier de Dinars Tunisiens',\n",
              "        'Unite en millier de Dinars Tunisiens',\n",
              "        'Unite en millier de Dinars Tunisiens', '', '', '', ''],\n",
              "       ['', 'Designation', 'Notes', '30/06/2023', '', '',\n",
              "        '30/06/2022 (*)', '31/12/2022', ''],\n",
              "       ['AC1', 'BCT, CCP et TGT', '(1-1)', '510 989', '510 989',\n",
              "        '477 083', '477 083', '445 813', '445 813'],\n",
              "       ['AC2', 'bancaires et financiers', '(1-2)', '451 759', '451 759',\n",
              "        '332 428', '332 428', '142 141', '142 141'],\n",
              "       ['AC3', 'Creances sur la clientele', '(1-3)', '6 991 842',\n",
              "        '6 991 842', '6 541 211', '6 541 211', '6 889 784', '6 889 784'],\n",
              "       ['AC4', 'Portefeuille-titres commercial (*)', '(1-4)', '26 776',\n",
              "        '26 776', '164 938', '19 020', '72 286', '72 286'],\n",
              "       ['AC5', \"Portefeuille d'investissement (*)\", '(1-5)', '2 417 450',\n",
              "        '2 417 450', '2 078 436', '2 224 354', '2 296 013', '2 296 013'],\n",
              "       ['AC6', 'Valeurs immobilisees', '(1-6)', '417 603', '417 603',\n",
              "        '296 811', '296 811', '397 473', '397 473'],\n",
              "       ['AC7', 'Autres actifs', '(1-7)', '178 394', '178 394', '210 291',\n",
              "        '210 291', '163 260', '163 260'],\n",
              "       ['', 'Total actifs', '', '10 994 813', '10 994 813', '10 101198',\n",
              "        '10 101198', '10 406 770', ''],\n",
              "       ['PA1', 'Banque Centrale, CCP', '(2-1)', '864 211', '864 211',\n",
              "        '918 431', '918 431', '815 324', '815 324'],\n",
              "       ['', 'Depots et avoirs des', '', '', '', '', '', '', ''],\n",
              "       ['PA2', 'etablissements bancaires et', '(2-2)', '272 658',\n",
              "        '272 658', '276 249', '276 249', '242 370', '242 370'],\n",
              "       ['', 'financiers', '', '', '', '', '', '', ''],\n",
              "       ['PA3', 'Depots et avoirs de la clientele', '(2-3)', '7 505 478',\n",
              "        '7 505 478', '6 619 725', '6 619 725', '6 990 819', '6 990 819'],\n",
              "       ['PA4', 'Emprunts et Ressources', '(2-4)', '766 842', '766 842',\n",
              "        '840 359', '840 359', '825 551', ''],\n",
              "       ['PA4', 'speciales', '(2-4)', '766 842', '766 842', '840 359',\n",
              "        '840 359', '825 551', ''],\n",
              "       ['PA5', 'Autres passifs', '(2-5)', '225 332', '225 332',\n",
              "        '214 701', '214 701', '230 533', '230 533'],\n",
              "       ['', 'Total passifs', '', '9 634 521', '9 634 521', '8 869 465',\n",
              "        '8869465', '9 104 597', '9 104 597'],\n",
              "       ['CP1', 'Capital', '', '132 405', '132 405', '132 405', '132 405',\n",
              "        '132 405', '132 405'],\n",
              "       ['CP2', 'Reserves', '', '1 114 859', '1 114 859', '1 014 792',\n",
              "        '1 014 792', '1 014 465', '1 014 465'],\n",
              "       ['CP4', 'Autres capitaux propres', '', '', '423', '423', '423',\n",
              "        '423', '423'],\n",
              "       ['CP5', 'Resultats reportes', '', '', '1', '1', '1', '', '1'],\n",
              "       ['CP6', \"Resultat de I'exercice\", '', '112 604', '112 604',\n",
              "        '84 112', '84 112', '154 879', '154 879'],\n",
              "       ['', 'Total capitaux propres', '(3)', '1 360292', '1 360292',\n",
              "        '1 231733', '1 231 733', '1 302 173', '1 302 173'],\n",
              "       ['', 'Total capitaux propres et passifs', '', '10 994 813',\n",
              "        '10 994 813', '10 101 198', '10 101 198', '10 406 770',\n",
              "        '10 406 770']], dtype='<U36')"
            ]
          },
          "metadata": {},
          "execution_count": 30
        }
      ]
    },
    {
      "cell_type": "code",
      "source": [
        "pd.DataFrame(out_array).to_csv('sample.csv')"
      ],
      "metadata": {
        "id": "_mgQoLv7oteq"
      },
      "execution_count": null,
      "outputs": []
    },
    {
      "cell_type": "code",
      "source": [],
      "metadata": {
        "id": "KZzVvIRoo22b"
      },
      "execution_count": null,
      "outputs": []
    }
  ]
}